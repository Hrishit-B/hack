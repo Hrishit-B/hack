{
 "cells": [
  {
   "cell_type": "code",
   "execution_count": 65,
   "metadata": {},
   "outputs": [],
   "source": [
    "import numpy as np\n",
    "import pandas as pd\n",
    "from tabulate import tabulate"
   ]
  },
  {
   "cell_type": "code",
   "execution_count": 66,
   "metadata": {},
   "outputs": [],
   "source": [
    "performance = {\n",
    "            'LinearRegression': \n",
    "                {'MAE': 56.31117131220661, \n",
    "                'MAPE': 0.08542753324843942, \n",
    "                'MSE': 3402.3304369760936, \n",
    "                'RMSE': 58.32949885757714, \n",
    "                'MSLE': 0.007817294853324813, \n",
    "                'RMSLE': 0.08841546727425476}, \n",
    "            'Lasso': \n",
    "                {'MAE': 56.162343633562635, \n",
    "                'MAPE': 0.08529150725273957, \n",
    "                'MSE': 3382.955814600872, \n",
    "                'RMSE': 58.16318263816787, \n",
    "                'MSLE': 0.007793870373274454, \n",
    "                'RMSLE': 0.08828289966507928}, \n",
    "            'DecisionTreeRegressor': \n",
    "                {'MAE': 0.2396507936476296, \n",
    "                 'MAPE': 0.00034015331375173444, \n",
    "                 'MSE': 0.5873744008025721, \n",
    "                 'RMSE': 0.7664035495759216, \n",
    "                 'MSLE': 1.1184866643422793e-06, \n",
    "                 'RMSLE': 0.001057585298849355}, \n",
    "            'RandomForestRegressor': \n",
    "                {'MAE': 0.565101523796948, \n",
    "                 'MAPE': 0.0008722134346608388, \n",
    "                 'MSE': 4.572453569657291, \n",
    "                 'RMSE': 2.138329621376763, \n",
    "                 'MSLE': 1.1800933700443575e-05, \n",
    "                 'RMSLE': 0.0034352487101290898}, \n",
    "            'GradientBoostingRegressor': \n",
    "                {'MAE': 0.7667694138749983, \n",
    "                'MAPE': 0.0011646329122221657, \n",
    "                'MSE': 0.9913364250600676, \n",
    "                'RMSE': 0.9956587894756254, \n",
    "                'MSLE': 2.279480024572536e-06, \n",
    "                'RMSLE': 0.001509794696166514}\n",
    "        }"
   ]
  },
  {
   "cell_type": "code",
   "execution_count": 67,
   "metadata": {},
   "outputs": [],
   "source": [
    "def dataframe(metrics):\n",
    "    data = []\n",
    "    col = ['Model Name', \n",
    "           'Mean Absolute Error', \n",
    "           'Mean Absolute Percentage Error', \n",
    "           'Mean Squared Error', \n",
    "           'Root Mean Squared Error',             \n",
    "           'Mean Squared Log Error', \n",
    "           'Root Mean Squared Log Error']\n",
    "        \n",
    "    for key in metrics.keys():\n",
    "        model = key\n",
    "        mae = metrics[key]['MAE']\n",
    "        mape = metrics[key]['MAPE']\n",
    "        mse = metrics[key]['MSE']\n",
    "        rmse = metrics[key]['RMSE']\n",
    "        msle = metrics[key]['MSLE']\n",
    "        rmsle = metrics[key]['RMSLE']\n",
    "        row = [model, mae, mape, mse, rmse, msle, rmsle]\n",
    "        data.append(row)\n",
    "            \n",
    "    df = pd.DataFrame(data=data, columns=col)\n",
    "    table = tabulate(df, headers=col, tablefmt=\"grid\")\n",
    "    return table\n",
    "    "
   ]
  },
  {
   "cell_type": "code",
   "execution_count": 68,
   "metadata": {},
   "outputs": [
    {
     "name": "stdout",
     "output_type": "stream",
     "text": [
      "+----+---------------------------+-----------------------+----------------------------------+----------------------+---------------------------+--------------------------+-------------------------------+\n",
      "|    | Model Name                |   Mean Absolute Error |   Mean Absolute Percentage Error |   Mean Squared Error |   Root Mean Squared Error |   Mean Squared Log Error |   Root Mean Squared Log Error |\n",
      "+====+===========================+=======================+==================================+======================+===========================+==========================+===============================+\n",
      "|  0 | LinearRegression          |             56.3112   |                      0.0854275   |          3402.33     |                 58.3295   |              0.00781729  |                    0.0884155  |\n",
      "+----+---------------------------+-----------------------+----------------------------------+----------------------+---------------------------+--------------------------+-------------------------------+\n",
      "|  1 | Lasso                     |             56.1623   |                      0.0852915   |          3382.96     |                 58.1632   |              0.00779387  |                    0.0882829  |\n",
      "+----+---------------------------+-----------------------+----------------------------------+----------------------+---------------------------+--------------------------+-------------------------------+\n",
      "|  2 | DecisionTreeRegressor     |              0.239651 |                      0.000340153 |             0.587374 |                  0.766404 |              1.11849e-06 |                    0.00105759 |\n",
      "+----+---------------------------+-----------------------+----------------------------------+----------------------+---------------------------+--------------------------+-------------------------------+\n",
      "|  3 | RandomForestRegressor     |              0.565102 |                      0.000872213 |             4.57245  |                  2.13833  |              1.18009e-05 |                    0.00343525 |\n",
      "+----+---------------------------+-----------------------+----------------------------------+----------------------+---------------------------+--------------------------+-------------------------------+\n",
      "|  4 | GradientBoostingRegressor |              0.766769 |                      0.00116463  |             0.991336 |                  0.995659 |              2.27948e-06 |                    0.00150979 |\n",
      "+----+---------------------------+-----------------------+----------------------------------+----------------------+---------------------------+--------------------------+-------------------------------+\n"
     ]
    }
   ],
   "source": [
    "print(dataframe(performance))"
   ]
  },
  {
   "cell_type": "code",
   "execution_count": null,
   "metadata": {},
   "outputs": [],
   "source": []
  }
 ],
 "metadata": {
  "kernelspec": {
   "display_name": "Python 3",
   "language": "python",
   "name": "python3"
  },
  "language_info": {
   "codemirror_mode": {
    "name": "ipython",
    "version": 3
   },
   "file_extension": ".py",
   "mimetype": "text/x-python",
   "name": "python",
   "nbconvert_exporter": "python",
   "pygments_lexer": "ipython3",
   "version": "3.11.1"
  }
 },
 "nbformat": 4,
 "nbformat_minor": 2
}
